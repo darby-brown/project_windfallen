{
 "cells": [
  {
   "cell_type": "code",
   "execution_count": 1,
   "id": "92c1ff29",
   "metadata": {},
   "outputs": [],
   "source": [
    "import jax\n",
    "from jax import numpy as jnp\n",
    "from typing import Tuple\n",
    "import chex\n",
    "\n",
    "key = jax.random.key(0)"
   ]
  },
  {
   "cell_type": "code",
   "execution_count": 2,
   "id": "98b103e0",
   "metadata": {},
   "outputs": [],
   "source": [
    "from jumanji_env.environments.complex_orchard.constants import (\n",
    "    TREE_DISTANCE_ROW,\n",
    "    TREE_DISTANCE_COL,\n",
    "    TREE_VARIATION,\n",
    "    TREE_DIAMETER,\n",
    "    ORCHARD_FERTILITY,\n",
    "    ROBOT_DIAMETER,\n",
    "    BASKET_DIAMETER,\n",
    "    APPLE_DIAMETER,\n",
    "    APPLE_DENSITY,\n",
    ")\n",
    "\n",
    "from jumanji_env.environments.complex_orchard.generator import ComplexOrchardGenerator\n",
    "gen = ComplexOrchardGenerator(width=2000, height=1600, num_picker_bots=4)"
   ]
  },
  {
   "cell_type": "code",
   "execution_count": 3,
   "id": "0a580037",
   "metadata": {},
   "outputs": [
    {
     "data": {
      "text/plain": [
       "ComplexOrchardState(bots=ComplexOrchardBot(id=Array([0, 1, 2, 3], dtype=int32), position=Array([[ 400.    ,  213.1386],\n",
       "       [ 800.    ,  213.1386],\n",
       "       [1200.    ,  213.1386],\n",
       "       [1600.    ,  213.1386]], dtype=float32), diameter=Array([60, 60, 60, 60], dtype=int32, weak_type=True), holding=Array([-1, -1, -1, -1], dtype=int32, weak_type=True), job=Array([0., 0., 0., 0.], dtype=float32), orientation=Array([0., 0., 0., 0.], dtype=float32)), trees=ComplexOrchardTree(id=Array([  0,   1,   2,   3,   4,   5,   6,   7,   8,   9,  10,  11,  12,\n",
       "        13,  14,  15,  16,  17,  18,  19,  20,  21,  22,  23,  24,  25,\n",
       "        26,  27,  28,  29,  30,  31,  32,  33,  34,  35,  36,  37,  38,\n",
       "        39,  40,  41,  42,  43,  44,  45,  46,  47,  48,  49,  50,  51,\n",
       "        52,  53,  54,  55,  56,  57,  58,  59,  60,  61,  62,  63,  64,\n",
       "        65,  66,  67,  68,  69,  70,  71,  72,  73,  74,  75,  76,  77,\n",
       "        78,  79,  80,  81,  82,  83,  84,  85,  86,  87,  88,  89,  90,\n",
       "        91,  92,  93,  94,  95,  96,  97,  98,  99, 100, 101, 102, 103,\n",
       "       104, 105, 106, 107, 108, 109, 110, 111, 112, 113, 114, 115, 116,\n",
       "       117, 118, 119, 120, 121, 122, 123, 124, 125, 126, 127, 128, 129,\n",
       "       130, 131, 132, 133, 134, 135, 136, 137, 138, 139, 140, 141, 142,\n",
       "       143, 144, 145, 146, 147, 148, 149, 150, 151, 152, 153, 154, 155,\n",
       "       156, 157, 158, 159, 160, 161, 162, 163, 164], dtype=int32), position=Array([[ 176.04636,  407.94876],\n",
       "       [ 171.5033 ,  513.48584],\n",
       "       [ 177.26132,  619.48126],\n",
       "       [ 190.65392,  703.09827],\n",
       "       [ 174.38725,  819.3523 ],\n",
       "       [ 187.95752,  931.42847],\n",
       "       [ 173.953  , 1051.8167 ],\n",
       "       [ 193.61533, 1138.8442 ],\n",
       "       [ 198.2873 , 1242.5961 ],\n",
       "       [ 174.4905 , 1345.3511 ],\n",
       "       [ 181.44774, 1461.573  ],\n",
       "       [ 283.95157,  392.10764],\n",
       "       [ 277.19946,  504.49246],\n",
       "       [ 295.83582,  617.9614 ],\n",
       "       [ 295.1956 ,  712.5074 ],\n",
       "       [ 294.33243,  841.6449 ],\n",
       "       [ 276.51804,  908.7975 ],\n",
       "       [ 293.81143, 1021.422  ],\n",
       "       [ 300.72043, 1129.415  ],\n",
       "       [ 287.1057 , 1249.388  ],\n",
       "       [ 289.1055 , 1352.073  ],\n",
       "       [ 290.74228, 1458.5742 ],\n",
       "       [ 391.3476 ,  392.42346],\n",
       "       [ 389.35095,  507.8238 ],\n",
       "       [ 404.85352,  587.2545 ],\n",
       "       [ 400.70938,  715.2341 ],\n",
       "       [ 394.3303 ,  827.61176],\n",
       "       [ 397.24805,  931.4544 ],\n",
       "       [ 398.93564, 1018.37695],\n",
       "       [ 396.9023 , 1126.6221 ],\n",
       "       [ 413.63184, 1252.0911 ],\n",
       "       [ 405.25085, 1346.6201 ],\n",
       "       [ 393.9809 , 1448.1371 ],\n",
       "       [ 502.53674,  376.23486],\n",
       "       [ 500.19574,  497.31293],\n",
       "       [ 490.0588 ,  629.1581 ],\n",
       "       [ 498.5071 ,  717.8381 ],\n",
       "       [ 504.69775,  827.11993],\n",
       "       [ 500.27945,  946.1468 ],\n",
       "       [ 500.2304 , 1032.7496 ],\n",
       "       [ 501.83002, 1134.9896 ],\n",
       "       [ 504.3498 , 1265.0883 ],\n",
       "       [ 494.36517, 1365.1957 ],\n",
       "       [ 491.72794, 1470.4987 ],\n",
       "       [ 612.051  ,  396.9917 ],\n",
       "       [ 604.15607,  491.49472],\n",
       "       [ 604.4591 ,  605.08704],\n",
       "       [ 604.9707 ,  731.57776],\n",
       "       [ 623.4911 ,  808.77466],\n",
       "       [ 610.04645,  920.58905],\n",
       "       [ 596.8549 , 1024.6809 ],\n",
       "       [ 619.3525 , 1133.876  ],\n",
       "       [ 617.8364 , 1245.8434 ],\n",
       "       [ 609.5949 , 1360.4393 ],\n",
       "       [ 605.0825 , 1474.9304 ],\n",
       "       [ 712.7751 ,  405.58652],\n",
       "       [ 713.3632 ,  502.72546],\n",
       "       [ 720.1135 ,  619.13776],\n",
       "       [ 716.95215,  712.9513 ],\n",
       "       [ 708.5967 ,  818.5504 ],\n",
       "       [ 721.5671 ,  918.19855],\n",
       "       [ 720.9504 , 1026.4849 ],\n",
       "       [ 716.03546, 1144.2657 ],\n",
       "       [ 705.2616 , 1259.3278 ],\n",
       "       [ 702.29083, 1350.6185 ],\n",
       "       [ 712.38043, 1458.9983 ],\n",
       "       [ 799.7157 ,  388.4613 ],\n",
       "       [ 827.6068 ,  497.30167],\n",
       "       [ 831.26086,  620.9369 ],\n",
       "       [ 823.0334 ,  716.0696 ],\n",
       "       [ 822.6497 ,  808.094  ],\n",
       "       [ 816.196  ,  919.16956],\n",
       "       [ 820.1867 , 1040.5698 ],\n",
       "       [ 841.06696, 1128.665  ],\n",
       "       [ 809.06024, 1253.1272 ],\n",
       "       [ 830.7841 , 1334.1619 ],\n",
       "       [ 815.63135, 1436.9927 ],\n",
       "       [ 921.04395,  404.5029 ],\n",
       "       [ 907.1115 ,  496.60703],\n",
       "       [ 916.45764,  587.0353 ],\n",
       "       [ 932.26306,  715.06   ],\n",
       "       [ 930.98975,  821.2088 ],\n",
       "       [ 904.1333 ,  928.37866],\n",
       "       [ 920.818  , 1014.5106 ],\n",
       "       [ 927.5324 , 1139.7346 ],\n",
       "       [ 932.1137 , 1247.7253 ],\n",
       "       [ 938.3336 , 1348.4845 ],\n",
       "       [ 944.54596, 1472.0349 ],\n",
       "       [1044.0034 ,  385.0364 ],\n",
       "       [1041.3424 ,  511.14444],\n",
       "       [1029.7942 ,  606.3347 ],\n",
       "       [1044.1599 ,  704.77826],\n",
       "       [1039.627  ,  820.1164 ],\n",
       "       [1020.9668 ,  920.30695],\n",
       "       [1047.5292 , 1048.7788 ],\n",
       "       [1049.9287 , 1142.1311 ],\n",
       "       [1041.8794 , 1260.9302 ],\n",
       "       [1044.9446 , 1373.473  ],\n",
       "       [1036.9043 , 1454.642  ],\n",
       "       [1153.522  ,  393.03766],\n",
       "       [1147.5552 ,  505.32022],\n",
       "       [1138.5803 ,  600.3611 ],\n",
       "       [1138.5269 ,  711.82697],\n",
       "       [1140.556  ,  836.805  ],\n",
       "       [1152.7925 ,  905.73047],\n",
       "       [1142.7577 , 1043.8799 ],\n",
       "       [1157.1775 , 1143.147  ],\n",
       "       [1139.3783 , 1267.3224 ],\n",
       "       [1124.2065 , 1357.0841 ],\n",
       "       [1146.0428 , 1452.9583 ],\n",
       "       [1254.1671 ,  394.22998],\n",
       "       [1251.1943 ,  495.95428],\n",
       "       [1246.667  ,  615.2629 ],\n",
       "       [1253.3057 ,  728.8162 ],\n",
       "       [1221.9266 ,  835.04236],\n",
       "       [1258.939  ,  939.1565 ],\n",
       "       [1254.353  , 1025.6482 ],\n",
       "       [1252.2502 , 1131.698  ],\n",
       "       [1245.6815 , 1256.6652 ],\n",
       "       [1246.1659 , 1354.4093 ],\n",
       "       [1237.1533 , 1496.0945 ],\n",
       "       [1357.4901 ,  408.65106],\n",
       "       [1336.4557 ,  502.34006],\n",
       "       [1357.501  ,  617.82916],\n",
       "       [1338.3602 ,  699.07477],\n",
       "       [1364.1237 ,  828.6286 ],\n",
       "       [1362.659  ,  928.86163],\n",
       "       [1355.9506 , 1029.2351 ],\n",
       "       [1356.107  , 1158.7351 ],\n",
       "       [1354.8804 , 1257.5975 ],\n",
       "       [1353.867  , 1350.0188 ],\n",
       "       [1341.7733 , 1470.4387 ],\n",
       "       [1465.6827 ,  405.5727 ],\n",
       "       [1450.8145 ,  493.4252 ],\n",
       "       [1470.3104 ,  611.65845],\n",
       "       [1458.3348 ,  713.172  ],\n",
       "       [1478.2004 ,  836.4006 ],\n",
       "       [1463.9187 ,  933.87555],\n",
       "       [1449.4924 , 1017.9568 ],\n",
       "       [1480.5074 , 1136.0491 ],\n",
       "       [1450.0095 , 1261.498  ],\n",
       "       [1453.7894 , 1340.5603 ],\n",
       "       [1472.3062 , 1461.1093 ],\n",
       "       [1567.2609 ,  417.3401 ],\n",
       "       [1563.8492 ,  507.94843],\n",
       "       [1571.1399 ,  608.2858 ],\n",
       "       [1577.8525 ,  718.5279 ],\n",
       "       [1557.0797 ,  834.09283],\n",
       "       [1564.461  ,  930.9336 ],\n",
       "       [1573.7207 , 1035.3195 ],\n",
       "       [1566.3528 , 1140.4856 ],\n",
       "       [1564.7017 , 1241.0322 ],\n",
       "       [1566.8595 , 1358.7092 ],\n",
       "       [1564.994  , 1463.908  ],\n",
       "       [1660.2736 ,  395.65085],\n",
       "       [1686.54   ,  500.12445],\n",
       "       [1692.399  ,  606.92566],\n",
       "       [1666.85   ,  719.6708 ],\n",
       "       [1675.0879 ,  832.7942 ],\n",
       "       [1680.8606 ,  919.3029 ],\n",
       "       [1673.719  , 1043.8267 ],\n",
       "       [1666.9609 , 1136.944  ],\n",
       "       [1676.1577 , 1230.8307 ],\n",
       "       [1670.4875 , 1342.4618 ],\n",
       "       [1677.2478 , 1460.6956 ]], dtype=float32), diameter=Array([40.587368, 40.883995, 36.89937 , 36.138268, 40.96328 , 42.819378,\n",
       "       46.17882 , 44.57075 , 41.18918 , 40.510128, 32.884186, 43.25814 ,\n",
       "       40.641327, 38.135727, 43.29614 , 46.53461 , 43.660458, 38.81594 ,\n",
       "       46.984695, 44.51592 , 45.35375 , 42.780373, 39.032402, 39.42602 ,\n",
       "       45.420593, 46.412132, 43.412308, 33.611473, 41.64492 , 37.893505,\n",
       "       41.32747 , 45.383568, 36.84785 , 41.243103, 40.791504, 39.11462 ,\n",
       "       40.30151 , 40.190617, 35.203205, 39.857582, 47.619965, 36.10142 ,\n",
       "       44.5926  , 38.146694, 38.377243, 40.408802, 42.563034, 41.01214 ,\n",
       "       38.183277, 36.94027 , 38.620075, 42.659466, 36.52253 , 46.70487 ,\n",
       "       36.282917, 42.971474, 36.013023, 40.409225, 43.92412 , 40.10051 ,\n",
       "       39.651608, 41.985584, 41.127113, 44.229935, 39.559208, 38.317024,\n",
       "       38.11646 , 32.510727, 39.653008, 43.24683 , 41.85681 , 39.418865,\n",
       "       32.260887, 35.56501 , 33.34826 , 40.28094 , 45.25064 , 41.557495,\n",
       "       43.193783, 40.867004, 47.41681 , 41.346024, 36.3089  , 37.109806,\n",
       "       40.719734, 39.732258, 37.13463 , 37.04029 , 39.03255 , 40.172676,\n",
       "       42.504307, 43.598816, 40.85277 , 43.17846 , 45.206867, 45.316284,\n",
       "       38.052498, 37.041782, 36.526485, 40.070442, 41.987007, 35.574215,\n",
       "       33.873966, 41.734768, 36.16623 , 34.409893, 40.581535, 48.55421 ,\n",
       "       39.632618, 37.293064, 44.063957, 39.457573, 35.02285 , 40.259727,\n",
       "       42.45859 , 42.88955 , 36.078094, 41.828815, 40.160137, 38.824314,\n",
       "       38.65745 , 36.712795, 42.4254  , 42.992134, 39.631027, 35.933838,\n",
       "       40.854275, 40.945503, 47.63626 , 42.664272, 40.931522, 40.446793,\n",
       "       42.21921 , 42.510376, 36.007572, 32.05286 , 41.05426 , 41.053154,\n",
       "       36.695934, 38.03825 , 44.24954 , 38.98731 , 50.313454, 44.74838 ,\n",
       "       42.881176, 39.86716 , 47.044228, 41.634186, 38.959198, 41.945385,\n",
       "       41.578545, 45.768974, 43.647755, 36.51457 , 41.322887, 37.663273,\n",
       "       40.894764, 44.85374 , 39.456615, 43.11954 , 46.166847, 38.905617,\n",
       "       41.44104 , 35.205208, 40.662308], dtype=float32), fertility=Array([0.56993556, 0.6045717 , 0.17613637, 0.12332606, 0.61370313,\n",
       "       0.8011714 , 0.9681051 , 0.9148476 , 0.63936174, 0.56081593,\n",
       "       0.01639092, 0.8358247 , 0.57628465, 0.28798485, 0.8386297 ,\n",
       "       0.97502446, 0.8639277 , 0.3612132 , 0.98193264, 0.9122554 ,\n",
       "       0.9458767 , 0.7978909 , 0.3858012 , 0.43164265, 0.94804406,\n",
       "       0.97280014, 0.8470098 , 0.02764702, 0.6891618 , 0.26371038,\n",
       "       0.65477335, 0.9468522 , 0.1721648 , 0.6453998 , 0.59384644,\n",
       "       0.39526808, 0.5360365 , 0.52280104, 0.07506979, 0.48296022,\n",
       "       0.9888725 , 0.12108624, 0.91586435, 0.28910828, 0.31319058,\n",
       "       0.5488043 , 0.77902675, 0.6192994 , 0.29287112, 0.17933059,\n",
       "       0.33944523, 0.7875184 , 0.14841819, 0.9778615 , 0.13239849,\n",
       "       0.8136538 , 0.11583006, 0.5488546 , 0.8804494 , 0.5120276 ,\n",
       "       0.45837903, 0.72430396, 0.6323687 , 0.897776  , 0.4473982 ,\n",
       "       0.30681694, 0.2860155 , 0.01232696, 0.45854568, 0.8349838 ,\n",
       "       0.71125114, 0.43079913, 0.01012361, 0.09167731, 0.02299297,\n",
       "       0.5335839 , 0.942394  , 0.679839  , 0.8310025 , 0.60260725,\n",
       "       0.98696077, 0.65682244, 0.13407552, 0.19295514, 0.5854751 ,\n",
       "       0.46799016, 0.19500148, 0.18729389, 0.38581812, 0.52065694,\n",
       "       0.7737615 , 0.8598497 , 0.6009593 , 0.82984114, 0.940863  ,\n",
       "       0.944631  , 0.27952576, 0.18741405, 0.14869332, 0.5084299 ,\n",
       "       0.72444654, 0.09213281, 0.03304517, 0.69861805, 0.12504482,\n",
       "       0.04676807, 0.5692483 , 0.99485993, 0.45611978, 0.20837247,\n",
       "       0.88861346, 0.4353664 , 0.06769955, 0.5310534 , 0.76961434,\n",
       "       0.80699193, 0.11968315, 0.7083752 , 0.5191581 , 0.3621546 ,\n",
       "       0.34356058, 0.162027  , 0.766577  , 0.8153113 , 0.45593023,\n",
       "       0.11126113, 0.6011337 , 0.61166096, 0.98901474, 0.78793633,\n",
       "       0.6100526 , 0.5533136 , 0.7472187 , 0.77430904, 0.11551142,\n",
       "       0.00855947, 0.62410414, 0.62397826, 0.16078901, 0.27809   ,\n",
       "       0.8988209 , 0.3806373 , 0.9990127 , 0.9228511 , 0.806303  ,\n",
       "       0.4841056 , 0.9827111 , 0.6880237 , 0.37742865, 0.7202604 ,\n",
       "       0.68209434, 0.9582467 , 0.8630941 , 0.14786601, 0.6542667 ,\n",
       "       0.24164593, 0.6058154 , 0.9273206 , 0.43525326, 0.825328  ,\n",
       "       0.9678471 , 0.3713367 , 0.66724277, 0.07515502, 0.5787482 ],      dtype=float32)), apples=ComplexOrchardApple(id=Array([   0,    1,    2, ..., 1227, 1228, 1229], dtype=int32), position=Array([[ 358.2763 ,  289.19855],\n",
       "       [ 441.61496,  304.7598 ],\n",
       "       [ 251.18134,  413.427  ],\n",
       "       ...,\n",
       "       [1910.8312 , 1492.5239 ],\n",
       "       [1767.2617 , 1494.3984 ],\n",
       "       [1727.6354 , 1496.4204 ]], dtype=float32), diameter=Array([5.147359 , 5.3507004, 5.8626785, ..., 5.182506 , 7.0532365,\n",
       "       6.245972 ], dtype=float32), held=Array([False, False, False, ..., False, False, False], dtype=bool), collected=Array([False, False, False, ..., False, False, False], dtype=bool)), baskets=ComplexOrchardBasket(id=Array([0], dtype=int32), position=Array([[1000.    ,  213.1386]], dtype=float32), diameter=Array([100], dtype=int32, weak_type=True), held=Array([False], dtype=bool)), time=Array(0, dtype=int32), width=Array(2000, dtype=int32), height=Array(1600, dtype=int32), key=Array((), dtype=key<fry>) overlaying:\n",
       "[2562233961 1946702221])"
      ]
     },
     "execution_count": 3,
     "metadata": {},
     "output_type": "execute_result"
    }
   ],
   "source": [
    "state = gen.sample_orchard(key)\n",
    "state"
   ]
  },
  {
   "cell_type": "code",
   "execution_count": 4,
   "id": "4bb1c0c9",
   "metadata": {},
   "outputs": [
    {
     "name": "stderr",
     "output_type": "stream",
     "text": [
      "/opt/homebrew/lib/python3.10/site-packages/tqdm/auto.py:22: TqdmWarning: IProgress not found. Please update jupyter and ipywidgets. See https://ipywidgets.readthedocs.io/en/stable/user_install.html\n",
      "  from .autonotebook import tqdm as notebook_tqdm\n"
     ]
    },
    {
     "ename": "ValueError",
     "evalue": "Incompatible shapes for broadcasting: (4, 2) and requested shape (4, 1)",
     "output_type": "error",
     "traceback": [
      "\u001b[0;31m---------------------------------------------------------------------------\u001b[0m",
      "\u001b[0;31mValueError\u001b[0m                                Traceback (most recent call last)",
      "Cell \u001b[0;32mIn[4], line 5\u001b[0m\n\u001b[1;32m      1\u001b[0m \u001b[38;5;28;01mfrom\u001b[39;00m \u001b[38;5;21;01mjumanji_env\u001b[39;00m\u001b[38;5;21;01m.\u001b[39;00m\u001b[38;5;21;01menvironments\u001b[39;00m\u001b[38;5;21;01m.\u001b[39;00m\u001b[38;5;21;01mcomplex_orchard\u001b[39;00m\u001b[38;5;21;01m.\u001b[39;00m\u001b[38;5;21;01mobserver\u001b[39;00m \u001b[38;5;28;01mimport\u001b[39;00m BasicObserver\n\u001b[1;32m      3\u001b[0m observer \u001b[38;5;241m=\u001b[39m BasicObserver(\u001b[38;5;241m4\u001b[39m, \u001b[38;5;241m2000\u001b[39m, \u001b[38;5;241m1600\u001b[39m)\n\u001b[0;32m----> 5\u001b[0m \u001b[43mobserver\u001b[49m\u001b[38;5;241;43m.\u001b[39;49m\u001b[43mstate_to_observation\u001b[49m\u001b[43m(\u001b[49m\u001b[43mstate\u001b[49m\u001b[43m)\u001b[49m\n",
      "File \u001b[0;32m~/Desktop/code/berkeley/210/applesauce/python/jumanji_env/environments/complex_orchard/observer.py:202\u001b[0m, in \u001b[0;36mBasicObserver.state_to_observation\u001b[0;34m(self, state)\u001b[0m\n\u001b[1;32m    190\u001b[0m agents_view: JaxArray[\u001b[38;5;124m'\u001b[39m\u001b[38;5;124mnum_bots\u001b[39m\u001b[38;5;124m'\u001b[39m, \u001b[38;5;241m3\u001b[39m] \u001b[38;5;241m=\u001b[39m jax\u001b[38;5;241m.\u001b[39mvmap(\u001b[38;5;28mself\u001b[39m\u001b[38;5;241m.\u001b[39m_observe, in_axes\u001b[38;5;241m=\u001b[39m(\u001b[38;5;241m0\u001b[39m, \u001b[38;5;241m0\u001b[39m, \u001b[38;5;241m0\u001b[39m, \u001b[38;5;241m0\u001b[39m, \u001b[38;5;28;01mNone\u001b[39;00m, \u001b[38;5;28;01mNone\u001b[39;00m, \u001b[38;5;28;01mNone\u001b[39;00m, \u001b[38;5;28;01mNone\u001b[39;00m))(\n\u001b[1;32m    191\u001b[0m   state\u001b[38;5;241m.\u001b[39mbots\u001b[38;5;241m.\u001b[39mposition,\n\u001b[1;32m    192\u001b[0m   state\u001b[38;5;241m.\u001b[39mbots\u001b[38;5;241m.\u001b[39morientation,\n\u001b[0;32m   (...)\u001b[0m\n\u001b[1;32m    198\u001b[0m   state\u001b[38;5;241m.\u001b[39mbaskets\u001b[38;5;241m.\u001b[39mposition\n\u001b[1;32m    199\u001b[0m )\n\u001b[1;32m    201\u001b[0m \u001b[38;5;66;03m# Placeholder for the action mask\u001b[39;00m\n\u001b[0;32m--> 202\u001b[0m action_mask \u001b[38;5;241m=\u001b[39m \u001b[38;5;28;43mself\u001b[39;49m\u001b[38;5;241;43m.\u001b[39;49m\u001b[43m_create_action_mask\u001b[49m\u001b[43m(\u001b[49m\u001b[43mstate\u001b[49m\u001b[43m)\u001b[49m\n\u001b[1;32m    204\u001b[0m \u001b[38;5;28;01mreturn\u001b[39;00m ComplexOrchardObservation(agents_view\u001b[38;5;241m=\u001b[39magents_view, action_mask\u001b[38;5;241m=\u001b[39maction_mask, time\u001b[38;5;241m=\u001b[39mstate\u001b[38;5;241m.\u001b[39mtime)\n",
      "File \u001b[0;32m~/Desktop/code/berkeley/210/applesauce/python/jumanji_env/environments/complex_orchard/observer.py:171\u001b[0m, in \u001b[0;36mBasicObserver._create_action_mask\u001b[0;34m(self, state)\u001b[0m\n\u001b[1;32m    168\u001b[0m possible_actions: JaxArray[\u001b[38;5;124m'\u001b[39m\u001b[38;5;124mnum_bots\u001b[39m\u001b[38;5;124m'\u001b[39m, \u001b[38;5;124m'\u001b[39m\u001b[38;5;124mNUM_ACTIONS\u001b[39m\u001b[38;5;124m'\u001b[39m] \u001b[38;5;241m=\u001b[39m jnp\u001b[38;5;241m.\u001b[39mones((\u001b[38;5;28mlen\u001b[39m(state\u001b[38;5;241m.\u001b[39mbots\u001b[38;5;241m.\u001b[39mdiameter), NUM_ACTIONS), dtype\u001b[38;5;241m=\u001b[39m\u001b[38;5;28mbool\u001b[39m)\n\u001b[1;32m    170\u001b[0m \u001b[38;5;66;03m# The 1:2 is a references to the FORWARD = 1 and BACKWARD = 2 actions defined in the constants.py file\u001b[39;00m\n\u001b[0;32m--> 171\u001b[0m possible_actions: JaxArray[\u001b[38;5;124m'\u001b[39m\u001b[38;5;124mnum_bots\u001b[39m\u001b[38;5;124m'\u001b[39m, \u001b[38;5;124m'\u001b[39m\u001b[38;5;124mNUM_ACTIONS\u001b[39m\u001b[38;5;124m'\u001b[39m] \u001b[38;5;241m=\u001b[39m \u001b[43mpossible_actions\u001b[49m\u001b[38;5;241;43m.\u001b[39;49m\u001b[43mat\u001b[49m\u001b[43m[\u001b[49m\u001b[43m:\u001b[49m\u001b[43m,\u001b[49m\u001b[43m \u001b[49m\u001b[38;5;241;43m1\u001b[39;49m\u001b[43m:\u001b[49m\u001b[38;5;241;43m2\u001b[39;49m\u001b[43m]\u001b[49m\u001b[38;5;241;43m.\u001b[39;49m\u001b[43mset\u001b[49m\u001b[43m(\u001b[49m\u001b[43mpossible_forward_backward\u001b[49m\u001b[43m \u001b[49m\u001b[38;5;241;43m>\u001b[39;49m\u001b[43m \u001b[49m\u001b[38;5;241;43m0.5\u001b[39;49m\u001b[43m)\u001b[49m\n\u001b[1;32m    173\u001b[0m \u001b[38;5;28;01mreturn\u001b[39;00m possible_actions\n",
      "File \u001b[0;32m/opt/homebrew/lib/python3.10/site-packages/jax/_src/numpy/array_methods.py:788\u001b[0m, in \u001b[0;36m_IndexUpdateRef.set\u001b[0;34m(self, values, indices_are_sorted, unique_indices, mode)\u001b[0m\n\u001b[1;32m    779\u001b[0m \u001b[38;5;28;01mdef\u001b[39;00m \u001b[38;5;21mset\u001b[39m(\u001b[38;5;28mself\u001b[39m, values, \u001b[38;5;241m*\u001b[39m, indices_are_sorted\u001b[38;5;241m=\u001b[39m\u001b[38;5;28;01mFalse\u001b[39;00m, unique_indices\u001b[38;5;241m=\u001b[39m\u001b[38;5;28;01mFalse\u001b[39;00m,\n\u001b[1;32m    780\u001b[0m         mode\u001b[38;5;241m=\u001b[39m\u001b[38;5;28;01mNone\u001b[39;00m):\n\u001b[1;32m    781\u001b[0m   \u001b[38;5;124;03m\"\"\"Pure equivalent of ``x[idx] = y``.\u001b[39;00m\n\u001b[1;32m    782\u001b[0m \n\u001b[1;32m    783\u001b[0m \u001b[38;5;124;03m  Returns the value of ``x`` that would result from the NumPy-style\u001b[39;00m\n\u001b[0;32m   (...)\u001b[0m\n\u001b[1;32m    786\u001b[0m \u001b[38;5;124;03m  See :mod:`jax.ops` for details.\u001b[39;00m\n\u001b[1;32m    787\u001b[0m \u001b[38;5;124;03m  \"\"\"\u001b[39;00m\n\u001b[0;32m--> 788\u001b[0m   \u001b[38;5;28;01mreturn\u001b[39;00m \u001b[43mscatter\u001b[49m\u001b[38;5;241;43m.\u001b[39;49m\u001b[43m_scatter_update\u001b[49m\u001b[43m(\u001b[49m\u001b[38;5;28;43mself\u001b[39;49m\u001b[38;5;241;43m.\u001b[39;49m\u001b[43marray\u001b[49m\u001b[43m,\u001b[49m\u001b[43m \u001b[49m\u001b[38;5;28;43mself\u001b[39;49m\u001b[38;5;241;43m.\u001b[39;49m\u001b[43mindex\u001b[49m\u001b[43m,\u001b[49m\u001b[43m \u001b[49m\u001b[43mvalues\u001b[49m\u001b[43m,\u001b[49m\u001b[43m \u001b[49m\u001b[43mlax\u001b[49m\u001b[38;5;241;43m.\u001b[39;49m\u001b[43mscatter\u001b[49m\u001b[43m,\u001b[49m\n\u001b[1;32m    789\u001b[0m \u001b[43m                                 \u001b[49m\u001b[43mindices_are_sorted\u001b[49m\u001b[38;5;241;43m=\u001b[39;49m\u001b[43mindices_are_sorted\u001b[49m\u001b[43m,\u001b[49m\n\u001b[1;32m    790\u001b[0m \u001b[43m                                 \u001b[49m\u001b[43munique_indices\u001b[49m\u001b[38;5;241;43m=\u001b[39;49m\u001b[43munique_indices\u001b[49m\u001b[43m,\u001b[49m\u001b[43m \u001b[49m\u001b[43mmode\u001b[49m\u001b[38;5;241;43m=\u001b[39;49m\u001b[43mmode\u001b[49m\u001b[43m)\u001b[49m\n",
      "File \u001b[0;32m/opt/homebrew/lib/python3.10/site-packages/jax/_src/ops/scatter.py:76\u001b[0m, in \u001b[0;36m_scatter_update\u001b[0;34m(x, idx, y, scatter_op, indices_are_sorted, unique_indices, mode, normalize_indices)\u001b[0m\n\u001b[1;32m     73\u001b[0m \u001b[38;5;66;03m# XLA gathers and scatters are very similar in structure; the scatter logic\u001b[39;00m\n\u001b[1;32m     74\u001b[0m \u001b[38;5;66;03m# is more or less a transpose of the gather equivalent.\u001b[39;00m\n\u001b[1;32m     75\u001b[0m treedef, static_idx, dynamic_idx \u001b[38;5;241m=\u001b[39m jnp\u001b[38;5;241m.\u001b[39m_split_index_for_jit(idx, x\u001b[38;5;241m.\u001b[39mshape)\n\u001b[0;32m---> 76\u001b[0m \u001b[38;5;28;01mreturn\u001b[39;00m \u001b[43m_scatter_impl\u001b[49m\u001b[43m(\u001b[49m\u001b[43mx\u001b[49m\u001b[43m,\u001b[49m\u001b[43m \u001b[49m\u001b[43my\u001b[49m\u001b[43m,\u001b[49m\u001b[43m \u001b[49m\u001b[43mscatter_op\u001b[49m\u001b[43m,\u001b[49m\u001b[43m \u001b[49m\u001b[43mtreedef\u001b[49m\u001b[43m,\u001b[49m\u001b[43m \u001b[49m\u001b[43mstatic_idx\u001b[49m\u001b[43m,\u001b[49m\u001b[43m \u001b[49m\u001b[43mdynamic_idx\u001b[49m\u001b[43m,\u001b[49m\n\u001b[1;32m     77\u001b[0m \u001b[43m                     \u001b[49m\u001b[43mindices_are_sorted\u001b[49m\u001b[43m,\u001b[49m\u001b[43m \u001b[49m\u001b[43munique_indices\u001b[49m\u001b[43m,\u001b[49m\u001b[43m \u001b[49m\u001b[43mmode\u001b[49m\u001b[43m,\u001b[49m\n\u001b[1;32m     78\u001b[0m \u001b[43m                     \u001b[49m\u001b[43mnormalize_indices\u001b[49m\u001b[43m)\u001b[49m\n",
      "File \u001b[0;32m/opt/homebrew/lib/python3.10/site-packages/jax/_src/ops/scatter.py:111\u001b[0m, in \u001b[0;36m_scatter_impl\u001b[0;34m(x, y, scatter_op, treedef, static_idx, dynamic_idx, indices_are_sorted, unique_indices, mode, normalize_indices)\u001b[0m\n\u001b[1;32m    108\u001b[0m x, y \u001b[38;5;241m=\u001b[39m promote_dtypes(x, y)\n\u001b[1;32m    110\u001b[0m \u001b[38;5;66;03m# Broadcast `y` to the slice output shape.\u001b[39;00m\n\u001b[0;32m--> 111\u001b[0m y \u001b[38;5;241m=\u001b[39m \u001b[43mjnp\u001b[49m\u001b[38;5;241;43m.\u001b[39;49m\u001b[43mbroadcast_to\u001b[49m\u001b[43m(\u001b[49m\u001b[43my\u001b[49m\u001b[43m,\u001b[49m\u001b[43m \u001b[49m\u001b[38;5;28;43mtuple\u001b[39;49m\u001b[43m(\u001b[49m\u001b[43mindexer\u001b[49m\u001b[38;5;241;43m.\u001b[39;49m\u001b[43mslice_shape\u001b[49m\u001b[43m)\u001b[49m\u001b[43m)\u001b[49m\n\u001b[1;32m    112\u001b[0m \u001b[38;5;66;03m# Collapse any `None`/`jnp.newaxis` dimensions.\u001b[39;00m\n\u001b[1;32m    113\u001b[0m y \u001b[38;5;241m=\u001b[39m jnp\u001b[38;5;241m.\u001b[39msqueeze(y, axis\u001b[38;5;241m=\u001b[39mindexer\u001b[38;5;241m.\u001b[39mnewaxis_dims)\n",
      "File \u001b[0;32m/opt/homebrew/lib/python3.10/site-packages/jax/_src/numpy/lax_numpy.py:3207\u001b[0m, in \u001b[0;36mbroadcast_to\u001b[0;34m(array, shape)\u001b[0m\n\u001b[1;32m   3173\u001b[0m \u001b[38;5;28;01mdef\u001b[39;00m \u001b[38;5;21mbroadcast_to\u001b[39m(array: ArrayLike, shape: DimSize \u001b[38;5;241m|\u001b[39m Shape) \u001b[38;5;241m-\u001b[39m\u001b[38;5;241m>\u001b[39m Array:\n\u001b[1;32m   3174\u001b[0m   \u001b[38;5;124;03m\"\"\"Broadcast an array to a specified shape.\u001b[39;00m\n\u001b[1;32m   3175\u001b[0m \n\u001b[1;32m   3176\u001b[0m \u001b[38;5;124;03m  JAX implementation of :func:`numpy.broadcast_to`. JAX uses NumPy-style\u001b[39;00m\n\u001b[0;32m   (...)\u001b[0m\n\u001b[1;32m   3205\u001b[0m \u001b[38;5;124;03m  .. _NumPy broadcasting: https://numpy.org/doc/stable/user/basics.broadcasting.html\u001b[39;00m\n\u001b[1;32m   3206\u001b[0m \u001b[38;5;124;03m  \"\"\"\u001b[39;00m\n\u001b[0;32m-> 3207\u001b[0m   \u001b[38;5;28;01mreturn\u001b[39;00m \u001b[43mutil\u001b[49m\u001b[38;5;241;43m.\u001b[39;49m\u001b[43m_broadcast_to\u001b[49m\u001b[43m(\u001b[49m\u001b[43marray\u001b[49m\u001b[43m,\u001b[49m\u001b[43m \u001b[49m\u001b[43mshape\u001b[49m\u001b[43m)\u001b[49m\n",
      "File \u001b[0;32m/opt/homebrew/lib/python3.10/site-packages/jax/_src/numpy/util.py:411\u001b[0m, in \u001b[0;36m_broadcast_to\u001b[0;34m(arr, shape)\u001b[0m\n\u001b[1;32m    409\u001b[0m \u001b[38;5;28;01mif\u001b[39;00m nlead \u001b[38;5;241m<\u001b[39m \u001b[38;5;241m0\u001b[39m \u001b[38;5;129;01mor\u001b[39;00m \u001b[38;5;129;01mnot\u001b[39;00m compatible:\n\u001b[1;32m    410\u001b[0m   msg \u001b[38;5;241m=\u001b[39m \u001b[38;5;124m\"\u001b[39m\u001b[38;5;124mIncompatible shapes for broadcasting: \u001b[39m\u001b[38;5;132;01m{}\u001b[39;00m\u001b[38;5;124m and requested shape \u001b[39m\u001b[38;5;132;01m{}\u001b[39;00m\u001b[38;5;124m\"\u001b[39m\n\u001b[0;32m--> 411\u001b[0m   \u001b[38;5;28;01mraise\u001b[39;00m \u001b[38;5;167;01mValueError\u001b[39;00m(msg\u001b[38;5;241m.\u001b[39mformat(arr_shape, shape))\n\u001b[1;32m    412\u001b[0m \u001b[38;5;28;01mreturn\u001b[39;00m lax\u001b[38;5;241m.\u001b[39mbroadcast_in_dim(arr, shape, \u001b[38;5;28mtuple\u001b[39m(\u001b[38;5;28mrange\u001b[39m(nlead, \u001b[38;5;28mlen\u001b[39m(shape))))\n",
      "\u001b[0;31mValueError\u001b[0m: Incompatible shapes for broadcasting: (4, 2) and requested shape (4, 1)"
     ]
    }
   ],
   "source": [
    "from jumanji_env.environments.complex_orchard.observer import BasicObserver\n",
    "\n",
    "observer = BasicObserver(4, 2000, 1600)\n",
    "\n",
    "observer.state_to_observation(state)"
   ]
  },
  {
   "cell_type": "code",
   "execution_count": 5,
   "id": "08247036",
   "metadata": {},
   "outputs": [
    {
     "data": {
      "text/plain": [
       "Array([[[4.030000e+02, 2.131386e+02, 1.000000e+00],\n",
       "        [3.970000e+02, 2.131386e+02, 1.000000e+00]],\n",
       "\n",
       "       [[8.030000e+02, 2.131386e+02, 1.000000e+00],\n",
       "        [7.970000e+02, 2.131386e+02, 1.000000e+00]],\n",
       "\n",
       "       [[1.203000e+03, 2.131386e+02, 1.000000e+00],\n",
       "        [1.197000e+03, 2.131386e+02, 1.000000e+00]],\n",
       "\n",
       "       [[1.603000e+03, 2.131386e+02, 1.000000e+00],\n",
       "        [1.597000e+03, 2.131386e+02, 1.000000e+00]]], dtype=float32)"
      ]
     },
     "execution_count": 5,
     "metadata": {},
     "output_type": "execute_result"
    }
   ],
   "source": [
    "from jumanji_env.environments.complex_orchard.utils import bots_possible_moves\n",
    "\n",
    "new_positions = bots_possible_moves(state)\n",
    "new_positions"
   ]
  },
  {
   "cell_type": "code",
   "execution_count": 6,
   "id": "14f4fcd1",
   "metadata": {},
   "outputs": [
    {
     "data": {
      "text/plain": [
       "0"
      ]
     },
     "execution_count": 6,
     "metadata": {},
     "output_type": "execute_result"
    }
   ],
   "source": [
    "len(state.bots.id[state.bots.id == 5])"
   ]
  },
  {
   "cell_type": "code",
   "execution_count": 7,
   "id": "3e17be4d",
   "metadata": {},
   "outputs": [
    {
     "data": {
      "text/plain": [
       "Array(-1, dtype=int32, weak_type=True)"
      ]
     },
     "execution_count": 7,
     "metadata": {},
     "output_type": "execute_result"
    }
   ],
   "source": [
    "jnp.array(-1)"
   ]
  },
  {
   "cell_type": "code",
   "execution_count": 8,
   "id": "681e3ad6",
   "metadata": {},
   "outputs": [
    {
     "data": {
      "text/plain": [
       "Array([-1, -1, -1, -1, -1], dtype=int32, weak_type=True)"
      ]
     },
     "execution_count": 8,
     "metadata": {},
     "output_type": "execute_result"
    }
   ],
   "source": [
    "jnp.repeat(-1, 5)"
   ]
  },
  {
   "cell_type": "code",
   "execution_count": 12,
   "id": "816f9a25",
   "metadata": {},
   "outputs": [
    {
     "data": {
      "text/plain": [
       "Array([0, 1, 2, 3], dtype=int32)"
      ]
     },
     "execution_count": 12,
     "metadata": {},
     "output_type": "execute_result"
    }
   ],
   "source": [
    "from jumanji_env.environments.complex_orchard.utils import distances_between_entities\n",
    "\n",
    "\n",
    "jnp.argmin(distances_between_entities(state.bots.position, state.bots.position), axis=1)"
   ]
  },
  {
   "cell_type": "code",
   "execution_count": 13,
   "id": "92148e8b",
   "metadata": {},
   "outputs": [
    {
     "ename": "ValueError",
     "evalue": "Incompatible shapes for broadcasting: shapes=[(4, 2), (4,)]",
     "output_type": "error",
     "traceback": [
      "\u001b[0;31m---------------------------------------------------------------------------\u001b[0m",
      "\u001b[0;31mValueError\u001b[0m                                Traceback (most recent call last)",
      "    \u001b[0;31m[... skipping hidden 1 frame]\u001b[0m\n",
      "File \u001b[0;32m/opt/homebrew/lib/python3.10/site-packages/jax/_src/util.py:302\u001b[0m, in \u001b[0;36mcache.<locals>.wrap.<locals>.wrapper\u001b[0;34m(*args, **kwargs)\u001b[0m\n\u001b[1;32m    301\u001b[0m   \u001b[38;5;28;01mreturn\u001b[39;00m f(\u001b[38;5;241m*\u001b[39margs, \u001b[38;5;241m*\u001b[39m\u001b[38;5;241m*\u001b[39mkwargs)\n\u001b[0;32m--> 302\u001b[0m \u001b[38;5;28;01mreturn\u001b[39;00m \u001b[43mcached\u001b[49m\u001b[43m(\u001b[49m\u001b[43mconfig\u001b[49m\u001b[38;5;241;43m.\u001b[39;49m\u001b[43mtrace_context\u001b[49m\u001b[43m(\u001b[49m\u001b[43m)\u001b[49m\u001b[43m \u001b[49m\u001b[38;5;28;43;01mif\u001b[39;49;00m\u001b[43m \u001b[49m\u001b[43mtrace_context_in_key\u001b[49m\u001b[43m \u001b[49m\u001b[38;5;28;43;01melse\u001b[39;49;00m\u001b[43m \u001b[49m\u001b[43m_ignore\u001b[49m\u001b[43m(\u001b[49m\u001b[43m)\u001b[49m\u001b[43m,\u001b[49m\n\u001b[1;32m    303\u001b[0m \u001b[43m              \u001b[49m\u001b[38;5;241;43m*\u001b[39;49m\u001b[43margs\u001b[49m\u001b[43m,\u001b[49m\u001b[43m \u001b[49m\u001b[38;5;241;43m*\u001b[39;49m\u001b[38;5;241;43m*\u001b[39;49m\u001b[43mkwargs\u001b[49m\u001b[43m)\u001b[49m\n",
      "File \u001b[0;32m/opt/homebrew/lib/python3.10/site-packages/jax/_src/util.py:296\u001b[0m, in \u001b[0;36mcache.<locals>.wrap.<locals>.cached\u001b[0;34m(_, *args, **kwargs)\u001b[0m\n\u001b[1;32m    294\u001b[0m \u001b[38;5;129m@functools\u001b[39m\u001b[38;5;241m.\u001b[39mlru_cache(max_size)\n\u001b[1;32m    295\u001b[0m \u001b[38;5;28;01mdef\u001b[39;00m \u001b[38;5;21mcached\u001b[39m(_, \u001b[38;5;241m*\u001b[39margs, \u001b[38;5;241m*\u001b[39m\u001b[38;5;241m*\u001b[39mkwargs):\n\u001b[0;32m--> 296\u001b[0m   \u001b[38;5;28;01mreturn\u001b[39;00m \u001b[43mf\u001b[49m\u001b[43m(\u001b[49m\u001b[38;5;241;43m*\u001b[39;49m\u001b[43margs\u001b[49m\u001b[43m,\u001b[49m\u001b[43m \u001b[49m\u001b[38;5;241;43m*\u001b[39;49m\u001b[38;5;241;43m*\u001b[39;49m\u001b[43mkwargs\u001b[49m\u001b[43m)\u001b[49m\n",
      "File \u001b[0;32m/opt/homebrew/lib/python3.10/site-packages/jax/_src/lax/lax.py:155\u001b[0m, in \u001b[0;36m_broadcast_shapes_cached\u001b[0;34m(*shapes)\u001b[0m\n\u001b[1;32m    153\u001b[0m \u001b[38;5;129m@cache\u001b[39m()\n\u001b[1;32m    154\u001b[0m \u001b[38;5;28;01mdef\u001b[39;00m \u001b[38;5;21m_broadcast_shapes_cached\u001b[39m(\u001b[38;5;241m*\u001b[39mshapes: \u001b[38;5;28mtuple\u001b[39m[\u001b[38;5;28mint\u001b[39m, \u001b[38;5;241m.\u001b[39m\u001b[38;5;241m.\u001b[39m\u001b[38;5;241m.\u001b[39m]) \u001b[38;5;241m-\u001b[39m\u001b[38;5;241m>\u001b[39m \u001b[38;5;28mtuple\u001b[39m[\u001b[38;5;28mint\u001b[39m, \u001b[38;5;241m.\u001b[39m\u001b[38;5;241m.\u001b[39m\u001b[38;5;241m.\u001b[39m]:\n\u001b[0;32m--> 155\u001b[0m   \u001b[38;5;28;01mreturn\u001b[39;00m \u001b[43m_broadcast_shapes_uncached\u001b[49m\u001b[43m(\u001b[49m\u001b[38;5;241;43m*\u001b[39;49m\u001b[43mshapes\u001b[49m\u001b[43m)\u001b[49m\n",
      "File \u001b[0;32m/opt/homebrew/lib/python3.10/site-packages/jax/_src/lax/lax.py:171\u001b[0m, in \u001b[0;36m_broadcast_shapes_uncached\u001b[0;34m(*shapes)\u001b[0m\n\u001b[1;32m    170\u001b[0m \u001b[38;5;28;01mif\u001b[39;00m result_shape \u001b[38;5;129;01mis\u001b[39;00m \u001b[38;5;28;01mNone\u001b[39;00m:\n\u001b[0;32m--> 171\u001b[0m   \u001b[38;5;28;01mraise\u001b[39;00m \u001b[38;5;167;01mValueError\u001b[39;00m(\u001b[38;5;124mf\u001b[39m\u001b[38;5;124m\"\u001b[39m\u001b[38;5;124mIncompatible shapes for broadcasting: shapes=\u001b[39m\u001b[38;5;132;01m{\u001b[39;00m\u001b[38;5;28mlist\u001b[39m(shapes)\u001b[38;5;132;01m}\u001b[39;00m\u001b[38;5;124m\"\u001b[39m)\n\u001b[1;32m    172\u001b[0m \u001b[38;5;28;01mreturn\u001b[39;00m result_shape\n",
      "\u001b[0;31mValueError\u001b[0m: Incompatible shapes for broadcasting: shapes=[(4, 2), (4,)]",
      "\nDuring handling of the above exception, another exception occurred:\n",
      "\u001b[0;31mValueError\u001b[0m                                Traceback (most recent call last)",
      "Cell \u001b[0;32mIn[13], line 1\u001b[0m\n\u001b[0;32m----> 1\u001b[0m nose_positions \u001b[38;5;241m=\u001b[39m state\u001b[38;5;241m.\u001b[39mbots\u001b[38;5;241m.\u001b[39mposition \u001b[38;5;241m+\u001b[39m \u001b[43mjnp\u001b[49m\u001b[38;5;241;43m.\u001b[39;49m\u001b[43mstack\u001b[49m\u001b[43m(\u001b[49m\u001b[43m[\u001b[49m\u001b[43mjnp\u001b[49m\u001b[38;5;241;43m.\u001b[39;49m\u001b[43mcos\u001b[49m\u001b[43m(\u001b[49m\u001b[43mstate\u001b[49m\u001b[38;5;241;43m.\u001b[39;49m\u001b[43mbots\u001b[49m\u001b[38;5;241;43m.\u001b[39;49m\u001b[43morientation\u001b[49m\u001b[43m)\u001b[49m\u001b[43m,\u001b[49m\u001b[43m \u001b[49m\u001b[43mjnp\u001b[49m\u001b[38;5;241;43m.\u001b[39;49m\u001b[43msin\u001b[49m\u001b[43m(\u001b[49m\u001b[43mstate\u001b[49m\u001b[38;5;241;43m.\u001b[39;49m\u001b[43mbots\u001b[49m\u001b[38;5;241;43m.\u001b[39;49m\u001b[43morientation\u001b[49m\u001b[43m)\u001b[49m\u001b[43m]\u001b[49m\u001b[43m,\u001b[49m\u001b[43m \u001b[49m\u001b[43maxis\u001b[49m\u001b[38;5;241;43m=\u001b[39;49m\u001b[38;5;241;43m1\u001b[39;49m\u001b[43m)\u001b[49m\u001b[43m \u001b[49m\u001b[38;5;241;43m*\u001b[39;49m\u001b[43m \u001b[49m\u001b[43mstate\u001b[49m\u001b[38;5;241;43m.\u001b[39;49m\u001b[43mbots\u001b[49m\u001b[38;5;241;43m.\u001b[39;49m\u001b[43mdiameter\u001b[49m \u001b[38;5;241m/\u001b[39m \u001b[38;5;241m2\u001b[39m\n",
      "File \u001b[0;32m/opt/homebrew/lib/python3.10/site-packages/jax/_src/numpy/array_methods.py:573\u001b[0m, in \u001b[0;36m_defer_to_unrecognized_arg.<locals>.deferring_binary_op\u001b[0;34m(self, other)\u001b[0m\n\u001b[1;32m    571\u001b[0m args \u001b[38;5;241m=\u001b[39m (other, \u001b[38;5;28mself\u001b[39m) \u001b[38;5;28;01mif\u001b[39;00m swap \u001b[38;5;28;01melse\u001b[39;00m (\u001b[38;5;28mself\u001b[39m, other)\n\u001b[1;32m    572\u001b[0m \u001b[38;5;28;01mif\u001b[39;00m \u001b[38;5;28misinstance\u001b[39m(other, _accepted_binop_types):\n\u001b[0;32m--> 573\u001b[0m   \u001b[38;5;28;01mreturn\u001b[39;00m \u001b[43mbinary_op\u001b[49m\u001b[43m(\u001b[49m\u001b[38;5;241;43m*\u001b[39;49m\u001b[43margs\u001b[49m\u001b[43m)\u001b[49m\n\u001b[1;32m    574\u001b[0m \u001b[38;5;66;03m# Note: don't use isinstance here, because we don't want to raise for\u001b[39;00m\n\u001b[1;32m    575\u001b[0m \u001b[38;5;66;03m# subclasses, e.g. NamedTuple objects that may override operators.\u001b[39;00m\n\u001b[1;32m    576\u001b[0m \u001b[38;5;28;01mif\u001b[39;00m \u001b[38;5;28mtype\u001b[39m(other) \u001b[38;5;129;01min\u001b[39;00m _rejected_binop_types:\n",
      "File \u001b[0;32m/opt/homebrew/lib/python3.10/site-packages/jax/_src/numpy/ufunc_api.py:177\u001b[0m, in \u001b[0;36mufunc.__call__\u001b[0;34m(self, out, where, *args)\u001b[0m\n\u001b[1;32m    175\u001b[0m   \u001b[38;5;28;01mraise\u001b[39;00m \u001b[38;5;167;01mNotImplementedError\u001b[39;00m(\u001b[38;5;124mf\u001b[39m\u001b[38;5;124m\"\u001b[39m\u001b[38;5;124mwhere argument of \u001b[39m\u001b[38;5;132;01m{\u001b[39;00m\u001b[38;5;28mself\u001b[39m\u001b[38;5;132;01m}\u001b[39;00m\u001b[38;5;124m\"\u001b[39m)\n\u001b[1;32m    176\u001b[0m call \u001b[38;5;241m=\u001b[39m \u001b[38;5;28mself\u001b[39m\u001b[38;5;241m.\u001b[39m__static_props[\u001b[38;5;124m'\u001b[39m\u001b[38;5;124mcall\u001b[39m\u001b[38;5;124m'\u001b[39m] \u001b[38;5;129;01mor\u001b[39;00m \u001b[38;5;28mself\u001b[39m\u001b[38;5;241m.\u001b[39m_call_vectorized\n\u001b[0;32m--> 177\u001b[0m \u001b[38;5;28;01mreturn\u001b[39;00m \u001b[43mcall\u001b[49m\u001b[43m(\u001b[49m\u001b[38;5;241;43m*\u001b[39;49m\u001b[43margs\u001b[49m\u001b[43m)\u001b[49m\n",
      "    \u001b[0;31m[... skipping hidden 11 frame]\u001b[0m\n",
      "File \u001b[0;32m/opt/homebrew/lib/python3.10/site-packages/jax/_src/numpy/ufuncs.py:1186\u001b[0m, in \u001b[0;36m_multiply\u001b[0;34m(x, y)\u001b[0m\n\u001b[1;32m   1159\u001b[0m \u001b[38;5;129m@partial\u001b[39m(jit, inline\u001b[38;5;241m=\u001b[39m\u001b[38;5;28;01mTrue\u001b[39;00m)\n\u001b[1;32m   1160\u001b[0m \u001b[38;5;28;01mdef\u001b[39;00m \u001b[38;5;21m_multiply\u001b[39m(x: ArrayLike, y: ArrayLike, \u001b[38;5;241m/\u001b[39m) \u001b[38;5;241m-\u001b[39m\u001b[38;5;241m>\u001b[39m Array:\n\u001b[1;32m   1161\u001b[0m   \u001b[38;5;124;03m\"\"\"Multiply two arrays element-wise.\u001b[39;00m\n\u001b[1;32m   1162\u001b[0m \n\u001b[1;32m   1163\u001b[0m \u001b[38;5;124;03m  JAX implementation of :obj:`numpy.multiply`. This is a universal function,\u001b[39;00m\n\u001b[0;32m   (...)\u001b[0m\n\u001b[1;32m   1184\u001b[0m \u001b[38;5;124;03m    Array([ 0, 10, 20, 30], dtype=int32)\u001b[39;00m\n\u001b[1;32m   1185\u001b[0m \u001b[38;5;124;03m  \"\"\"\u001b[39;00m\n\u001b[0;32m-> 1186\u001b[0m   x, y \u001b[38;5;241m=\u001b[39m \u001b[43mpromote_args\u001b[49m\u001b[43m(\u001b[49m\u001b[38;5;124;43m\"\u001b[39;49m\u001b[38;5;124;43mmultiply\u001b[39;49m\u001b[38;5;124;43m\"\u001b[39;49m\u001b[43m,\u001b[49m\u001b[43m \u001b[49m\u001b[43mx\u001b[49m\u001b[43m,\u001b[49m\u001b[43m \u001b[49m\u001b[43my\u001b[49m\u001b[43m)\u001b[49m\n\u001b[1;32m   1187\u001b[0m   \u001b[38;5;28;01mreturn\u001b[39;00m lax\u001b[38;5;241m.\u001b[39mmul(x, y) \u001b[38;5;28;01mif\u001b[39;00m x\u001b[38;5;241m.\u001b[39mdtype \u001b[38;5;241m!=\u001b[39m \u001b[38;5;28mbool\u001b[39m \u001b[38;5;28;01melse\u001b[39;00m lax\u001b[38;5;241m.\u001b[39mbitwise_and(x, y)\n",
      "File \u001b[0;32m/opt/homebrew/lib/python3.10/site-packages/jax/_src/numpy/util.py:362\u001b[0m, in \u001b[0;36mpromote_args\u001b[0;34m(fun_name, *args)\u001b[0m\n\u001b[1;32m    360\u001b[0m _check_no_float0s(fun_name, \u001b[38;5;241m*\u001b[39margs)\n\u001b[1;32m    361\u001b[0m check_for_prngkeys(fun_name, \u001b[38;5;241m*\u001b[39margs)\n\u001b[0;32m--> 362\u001b[0m \u001b[38;5;28;01mreturn\u001b[39;00m \u001b[43mpromote_shapes\u001b[49m\u001b[43m(\u001b[49m\u001b[43mfun_name\u001b[49m\u001b[43m,\u001b[49m\u001b[43m \u001b[49m\u001b[38;5;241;43m*\u001b[39;49m\u001b[43mpromote_dtypes\u001b[49m\u001b[43m(\u001b[49m\u001b[38;5;241;43m*\u001b[39;49m\u001b[43margs\u001b[49m\u001b[43m)\u001b[49m\u001b[43m)\u001b[49m\n",
      "File \u001b[0;32m/opt/homebrew/lib/python3.10/site-packages/jax/_src/numpy/util.py:227\u001b[0m, in \u001b[0;36mpromote_shapes\u001b[0;34m(fun_name, *args)\u001b[0m\n\u001b[1;32m    225\u001b[0m \u001b[38;5;28;01mif\u001b[39;00m config\u001b[38;5;241m.\u001b[39mnumpy_rank_promotion\u001b[38;5;241m.\u001b[39mvalue \u001b[38;5;241m!=\u001b[39m \u001b[38;5;124m\"\u001b[39m\u001b[38;5;124mallow\u001b[39m\u001b[38;5;124m\"\u001b[39m:\n\u001b[1;32m    226\u001b[0m   _rank_promotion_warning_or_error(fun_name, shapes)\n\u001b[0;32m--> 227\u001b[0m result_rank \u001b[38;5;241m=\u001b[39m \u001b[38;5;28mlen\u001b[39m(\u001b[43mlax\u001b[49m\u001b[38;5;241;43m.\u001b[39;49m\u001b[43mbroadcast_shapes\u001b[49m\u001b[43m(\u001b[49m\u001b[38;5;241;43m*\u001b[39;49m\u001b[43mshapes\u001b[49m\u001b[43m)\u001b[49m)\n\u001b[1;32m    228\u001b[0m \u001b[38;5;28;01mreturn\u001b[39;00m [lax\u001b[38;5;241m.\u001b[39mbroadcast_to_rank(arg, result_rank) \u001b[38;5;28;01mfor\u001b[39;00m arg \u001b[38;5;129;01min\u001b[39;00m args]\n",
      "    \u001b[0;31m[... skipping hidden 1 frame]\u001b[0m\n",
      "File \u001b[0;32m/opt/homebrew/lib/python3.10/site-packages/jax/_src/lax/lax.py:171\u001b[0m, in \u001b[0;36m_broadcast_shapes_uncached\u001b[0;34m(*shapes)\u001b[0m\n\u001b[1;32m    169\u001b[0m result_shape \u001b[38;5;241m=\u001b[39m _try_broadcast_shapes(shape_list)\n\u001b[1;32m    170\u001b[0m \u001b[38;5;28;01mif\u001b[39;00m result_shape \u001b[38;5;129;01mis\u001b[39;00m \u001b[38;5;28;01mNone\u001b[39;00m:\n\u001b[0;32m--> 171\u001b[0m   \u001b[38;5;28;01mraise\u001b[39;00m \u001b[38;5;167;01mValueError\u001b[39;00m(\u001b[38;5;124mf\u001b[39m\u001b[38;5;124m\"\u001b[39m\u001b[38;5;124mIncompatible shapes for broadcasting: shapes=\u001b[39m\u001b[38;5;132;01m{\u001b[39;00m\u001b[38;5;28mlist\u001b[39m(shapes)\u001b[38;5;132;01m}\u001b[39;00m\u001b[38;5;124m\"\u001b[39m)\n\u001b[1;32m    172\u001b[0m \u001b[38;5;28;01mreturn\u001b[39;00m result_shape\n",
      "\u001b[0;31mValueError\u001b[0m: Incompatible shapes for broadcasting: shapes=[(4, 2), (4,)]"
     ]
    }
   ],
   "source": [
    "nose_positions = state.bots.position + jnp.stack([jnp.cos(state.bots.orientation), jnp.sin(state.bots.orientation)], axis=1) * state.bots.diameter / 2"
   ]
  },
  {
   "cell_type": "code",
   "execution_count": 17,
   "id": "930f3cce",
   "metadata": {},
   "outputs": [
    {
     "data": {
      "text/plain": [
       "Array([[30.,  0.],\n",
       "       [30.,  0.],\n",
       "       [30.,  0.],\n",
       "       [30.,  0.]], dtype=float32)"
      ]
     },
     "execution_count": 17,
     "metadata": {},
     "output_type": "execute_result"
    }
   ],
   "source": [
    "jnp.stack([jnp.cos(state.bots.orientation) * state.bots.diameter, jnp.sin(state.bots.orientation) * state.bots.diameter], axis=1) / 2\n"
   ]
  },
  {
   "cell_type": "code",
   "execution_count": 18,
   "id": "a4028682",
   "metadata": {},
   "outputs": [
    {
     "data": {
      "text/plain": [
       "True"
      ]
     },
     "execution_count": 18,
     "metadata": {},
     "output_type": "execute_result"
    }
   ],
   "source": [
    "2 in jnp.arange(4)"
   ]
  },
  {
   "cell_type": "code",
   "execution_count": 20,
   "id": "cbd9e52d",
   "metadata": {},
   "outputs": [
    {
     "ename": "ValueError",
     "evalue": "The truth value of an array with more than one element is ambiguous. Use a.any() or a.all()",
     "output_type": "error",
     "traceback": [
      "\u001b[0;31m---------------------------------------------------------------------------\u001b[0m",
      "\u001b[0;31mValueError\u001b[0m                                Traceback (most recent call last)",
      "Cell \u001b[0;32mIn[20], line 1\u001b[0m\n\u001b[0;32m----> 1\u001b[0m \u001b[43mstate\u001b[49m\u001b[38;5;241;43m.\u001b[39;49m\u001b[43mbots\u001b[49m\u001b[38;5;241;43m.\u001b[39;49m\u001b[43mid\u001b[49m\u001b[43m \u001b[49m\u001b[38;5;129;43;01min\u001b[39;49;00m\u001b[43m \u001b[49m\u001b[43mjnp\u001b[49m\u001b[38;5;241;43m.\u001b[39;49m\u001b[43marray\u001b[49m\u001b[43m(\u001b[49m\u001b[43m[\u001b[49m\u001b[38;5;241;43m2\u001b[39;49m\u001b[43m,\u001b[49m\u001b[43m \u001b[49m\u001b[38;5;241;43m4\u001b[39;49m\u001b[43m,\u001b[49m\u001b[43m \u001b[49m\u001b[38;5;241;43m8\u001b[39;49m\u001b[43m]\u001b[49m\u001b[43m)\u001b[49m\n",
      "File \u001b[0;32m/opt/homebrew/lib/python3.10/site-packages/jax/_src/array.py:293\u001b[0m, in \u001b[0;36mArrayImpl.__bool__\u001b[0;34m(self)\u001b[0m\n\u001b[1;32m    292\u001b[0m \u001b[38;5;28;01mdef\u001b[39;00m \u001b[38;5;21m__bool__\u001b[39m(\u001b[38;5;28mself\u001b[39m):\n\u001b[0;32m--> 293\u001b[0m   \u001b[43mcore\u001b[49m\u001b[38;5;241;43m.\u001b[39;49m\u001b[43mcheck_bool_conversion\u001b[49m\u001b[43m(\u001b[49m\u001b[38;5;28;43mself\u001b[39;49m\u001b[43m)\u001b[49m\n\u001b[1;32m    294\u001b[0m   \u001b[38;5;28;01mreturn\u001b[39;00m \u001b[38;5;28mbool\u001b[39m(\u001b[38;5;28mself\u001b[39m\u001b[38;5;241m.\u001b[39m_value)\n",
      "File \u001b[0;32m/opt/homebrew/lib/python3.10/site-packages/jax/_src/core.py:676\u001b[0m, in \u001b[0;36mcheck_bool_conversion\u001b[0;34m(arr)\u001b[0m\n\u001b[1;32m    673\u001b[0m   \u001b[38;5;28;01mraise\u001b[39;00m \u001b[38;5;167;01mValueError\u001b[39;00m(\u001b[38;5;124m\"\u001b[39m\u001b[38;5;124mThe truth value of an empty array is ambiguous. Use\u001b[39m\u001b[38;5;124m\"\u001b[39m\n\u001b[1;32m    674\u001b[0m                    \u001b[38;5;124m\"\u001b[39m\u001b[38;5;124m `array.size > 0` to check that an array is not empty.\u001b[39m\u001b[38;5;124m\"\u001b[39m)\n\u001b[1;32m    675\u001b[0m \u001b[38;5;28;01mif\u001b[39;00m arr\u001b[38;5;241m.\u001b[39msize \u001b[38;5;241m>\u001b[39m \u001b[38;5;241m1\u001b[39m:\n\u001b[0;32m--> 676\u001b[0m   \u001b[38;5;28;01mraise\u001b[39;00m \u001b[38;5;167;01mValueError\u001b[39;00m(\u001b[38;5;124m\"\u001b[39m\u001b[38;5;124mThe truth value of an array with more than one element\u001b[39m\u001b[38;5;124m\"\u001b[39m\n\u001b[1;32m    677\u001b[0m                    \u001b[38;5;124m\"\u001b[39m\u001b[38;5;124m is ambiguous. Use a.any() or a.all()\u001b[39m\u001b[38;5;124m\"\u001b[39m)\n",
      "\u001b[0;31mValueError\u001b[0m: The truth value of an array with more than one element is ambiguous. Use a.any() or a.all()"
     ]
    }
   ],
   "source": [
    "state.bots.id in jnp.array([2, 4, 8])"
   ]
  },
  {
   "cell_type": "code",
   "execution_count": 24,
   "id": "8a122f7a",
   "metadata": {},
   "outputs": [
    {
     "data": {
      "text/plain": [
       "Array([ True, False,  True, False], dtype=bool)"
      ]
     },
     "execution_count": 24,
     "metadata": {},
     "output_type": "execute_result"
    }
   ],
   "source": [
    "jax.vmap(lambda id, targets: jnp.any(id == targets), in_axes=(0, None))(state.bots.id, jnp.array([0, 2, 8]))"
   ]
  },
  {
   "cell_type": "code",
   "execution_count": 26,
   "id": "bf63dd50",
   "metadata": {},
   "outputs": [
    {
     "data": {
      "text/plain": [
       "Array([6, 1, 6, 3], dtype=int32)"
      ]
     },
     "execution_count": 26,
     "metadata": {},
     "output_type": "execute_result"
    }
   ],
   "source": [
    "\n",
    "state.bots.id.at[jax.vmap(lambda id, targets: jnp.any(id == targets), in_axes=(0, None))(state.bots.id, jnp.array([0, 2, 8]))].set(6)\n"
   ]
  },
  {
   "cell_type": "code",
   "execution_count": null,
   "id": "6615e1eb",
   "metadata": {},
   "outputs": [],
   "source": []
  }
 ],
 "metadata": {
  "kernelspec": {
   "display_name": "Python 3 (ipykernel)",
   "language": "python",
   "name": "python3"
  },
  "language_info": {
   "codemirror_mode": {
    "name": "ipython",
    "version": 3
   },
   "file_extension": ".py",
   "mimetype": "text/x-python",
   "name": "python",
   "nbconvert_exporter": "python",
   "pygments_lexer": "ipython3",
   "version": "3.10.14"
  }
 },
 "nbformat": 4,
 "nbformat_minor": 5
}
