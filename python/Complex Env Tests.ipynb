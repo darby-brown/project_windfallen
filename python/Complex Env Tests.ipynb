{
 "cells": [
  {
   "cell_type": "code",
   "execution_count": 1,
   "id": "92c1ff29",
   "metadata": {},
   "outputs": [],
   "source": [
    "import jax\n",
    "from jax import numpy as jnp\n",
    "from typing import Tuple\n",
    "import chex\n",
    "\n",
    "key = jax.random.key(0)"
   ]
  },
  {
   "cell_type": "code",
   "execution_count": 2,
   "id": "98b103e0",
   "metadata": {},
   "outputs": [],
   "source": [
    "from jumanji_env.environments.complex_orchard.constants import (\n",
    "    TREE_DISTANCE_ROW,\n",
    "    TREE_DISTANCE_COL,\n",
    "    TREE_VARIATION,\n",
    "    TREE_DIAMETER,\n",
    "    ORCHARD_FERTILITY,\n",
    "    ROBOT_DIAMETER,\n",
    "    BASKET_DIAMETER,\n",
    "    APPLE_DIAMETER,\n",
    "    APPLE_DENSITY,\n",
    ")\n",
    "\n",
    "from jumanji_env.environments.complex_orchard.generator import ComplexOrchardGenerator\n",
    "gen = ComplexOrchardGenerator(width=2000, height=1600)"
   ]
  },
  {
   "cell_type": "code",
   "execution_count": 3,
   "id": "0a580037",
   "metadata": {},
   "outputs": [],
   "source": [
    "state = gen.sample_orchard(key)\n",
    "state"
   ]
  },
  {
   "cell_type": "code",
   "execution_count": 4,
   "id": "4bb1c0c9",
   "metadata": {},
   "outputs": [
    {
     "name": "stderr",
     "output_type": "stream",
     "text": [
      "/opt/homebrew/lib/python3.10/site-packages/tqdm/auto.py:22: TqdmWarning: IProgress not found. Please update jupyter and ipywidgets. See https://ipywidgets.readthedocs.io/en/stable/user_install.html\n",
      "  from .autonotebook import tqdm as notebook_tqdm\n"
     ]
    },
    {
     "data": {
      "text/plain": [
       "ComplexOrchardObservation(agents_view=Array([[-59.30652  ,  42.889603 ,   2.515475 ],\n",
       "       [ -1.3530273, -16.591583 ,  -1.6521653]], dtype=float32), action_mask=Array([[1., 1., 1., 1., 1., 1., 1.],\n",
       "       [1., 1., 1., 1., 1., 1., 1.]], dtype=float32), time=Array(0, dtype=int32))"
      ]
     },
     "execution_count": 4,
     "metadata": {},
     "output_type": "execute_result"
    }
   ],
   "source": [
    "from jumanji_env.environments.complex_orchard.observer import BasicObserver\n",
    "\n",
    "observer = BasicObserver(4, 2000, 1600)\n",
    "\n",
    "observer.state_to_observation(state)"
   ]
  },
  {
   "cell_type": "code",
   "execution_count": 5,
   "id": "10a2433c",
   "metadata": {},
   "outputs": [
    {
     "data": {
      "text/plain": [
       "Array([[[6.6966669e+02, 2.1313860e+02, 1.0000000e+00],\n",
       "        [6.6366669e+02, 2.1313860e+02, 1.0000000e+00]],\n",
       "\n",
       "       [[1.3363334e+03, 2.1313860e+02, 1.0000000e+00],\n",
       "        [1.3303334e+03, 2.1313860e+02, 1.0000000e+00]]], dtype=float32)"
      ]
     },
     "execution_count": 5,
     "metadata": {},
     "output_type": "execute_result"
    }
   ],
   "source": [
    "from jumanji_env.environments.complex_orchard.utils import bots_possible_moves\n",
    "\n",
    "bots_possible_moves(state)"
   ]
  },
  {
   "cell_type": "code",
   "execution_count": 6,
   "id": "8a697c59",
   "metadata": {},
   "outputs": [],
   "source": [
    "from jumanji_env.environments.complex_orchard.constants import ROBOT_MOVE_SPEED, JaxArray\n",
    "\n",
    "bots_pos = jnp.concat([state.bots.position, state.bots.position])\n",
    "bots_orien = jnp.concat([state.bots.orientation, state.bots.orientation])\n",
    "\n",
    "num_bots = bots_pos.shape[0]\n",
    "direction: JaxArray['num_bots', 2] = jnp.stack([jnp.cos(bots_orien), jnp.sin(bots_orien)], axis=1) * ROBOT_MOVE_SPEED\n",
    "\n",
    "# Calculate the new position of all of the bots\n",
    "new_forward_positions: JaxArray['num_bots', 2] = bots_pos + direction\n",
    "new_backward_positions: JaxArray['num_bots', 2] = bots_pos - direction\n",
    "\n",
    "# Make space for the is_possible value\n",
    "new_forward_positions: JaxArray['num_bots', 3] = jnp.pad(new_forward_positions, (0, 1), constant_values=1)[:-1]\n",
    "new_backward_positions: JaxArray['num_bots', 3] = jnp.pad(new_backward_positions, (0, 1), constant_values=1)[:-1]\n"
   ]
  },
  {
   "cell_type": "code",
   "execution_count": 7,
   "id": "74478257",
   "metadata": {},
   "outputs": [],
   "source": [
    "new_positions = jnp.stack([new_forward_positions, new_backward_positions], axis=1)"
   ]
  },
  {
   "cell_type": "code",
   "execution_count": 8,
   "id": "21a0fbd5",
   "metadata": {},
   "outputs": [
    {
     "data": {
      "text/plain": [
       "Array([[[6.6966669e+02, 2.1313860e+02, 1.0000000e+00],\n",
       "        [6.6366669e+02, 2.1313860e+02, 1.0000000e+00]],\n",
       "\n",
       "       [[1.3363334e+03, 2.1313860e+02, 1.0000000e+00],\n",
       "        [1.3303334e+03, 2.1313860e+02, 1.0000000e+00]],\n",
       "\n",
       "       [[6.6966669e+02, 2.1313860e+02, 1.0000000e+00],\n",
       "        [6.6366669e+02, 2.1313860e+02, 1.0000000e+00]],\n",
       "\n",
       "       [[1.3363334e+03, 2.1313860e+02, 1.0000000e+00],\n",
       "        [1.3303334e+03, 2.1313860e+02, 1.0000000e+00]]], dtype=float32)"
      ]
     },
     "execution_count": 8,
     "metadata": {},
     "output_type": "execute_result"
    }
   ],
   "source": [
    "new_positions"
   ]
  },
  {
   "cell_type": "code",
   "execution_count": 9,
   "id": "468cde37",
   "metadata": {},
   "outputs": [
    {
     "data": {
      "text/plain": [
       "Array([ 669.6667,  663.6667, 1336.3334, 1330.3334,  669.6667,  663.6667,\n",
       "       1336.3334, 1330.3334], dtype=float32)"
      ]
     },
     "execution_count": 9,
     "metadata": {},
     "output_type": "execute_result"
    }
   ],
   "source": [
    "new_positions[:, :, 0].reshape((num_bots * 2,))"
   ]
  },
  {
   "cell_type": "code",
   "execution_count": 10,
   "id": "24b7cc99",
   "metadata": {},
   "outputs": [
    {
     "data": {
      "text/plain": [
       "Array([[3., 0.],\n",
       "       [3., 0.],\n",
       "       [3., 0.],\n",
       "       [3., 0.]], dtype=float32)"
      ]
     },
     "execution_count": 10,
     "metadata": {},
     "output_type": "execute_result"
    }
   ],
   "source": [
    "direction"
   ]
  },
  {
   "cell_type": "code",
   "execution_count": 11,
   "id": "15121dfe",
   "metadata": {},
   "outputs": [
    {
     "ename": "TypeError",
     "evalue": "add got incompatible shapes for broadcasting: (2, 2), (4, 2).",
     "output_type": "error",
     "traceback": [
      "\u001b[0;31m---------------------------------------------------------------------------\u001b[0m",
      "\u001b[0;31mTypeError\u001b[0m                                 Traceback (most recent call last)",
      "Cell \u001b[0;32mIn[11], line 1\u001b[0m\n\u001b[0;32m----> 1\u001b[0m \u001b[43mstate\u001b[49m\u001b[38;5;241;43m.\u001b[39;49m\u001b[43mbots\u001b[49m\u001b[38;5;241;43m.\u001b[39;49m\u001b[43mposition\u001b[49m\u001b[43m \u001b[49m\u001b[38;5;241;43m+\u001b[39;49m\u001b[43m \u001b[49m\u001b[43mdirection\u001b[49m\n",
      "File \u001b[0;32m/opt/homebrew/lib/python3.10/site-packages/jax/_src/numpy/array_methods.py:573\u001b[0m, in \u001b[0;36m_defer_to_unrecognized_arg.<locals>.deferring_binary_op\u001b[0;34m(self, other)\u001b[0m\n\u001b[1;32m    571\u001b[0m args \u001b[38;5;241m=\u001b[39m (other, \u001b[38;5;28mself\u001b[39m) \u001b[38;5;28;01mif\u001b[39;00m swap \u001b[38;5;28;01melse\u001b[39;00m (\u001b[38;5;28mself\u001b[39m, other)\n\u001b[1;32m    572\u001b[0m \u001b[38;5;28;01mif\u001b[39;00m \u001b[38;5;28misinstance\u001b[39m(other, _accepted_binop_types):\n\u001b[0;32m--> 573\u001b[0m   \u001b[38;5;28;01mreturn\u001b[39;00m \u001b[43mbinary_op\u001b[49m\u001b[43m(\u001b[49m\u001b[38;5;241;43m*\u001b[39;49m\u001b[43margs\u001b[49m\u001b[43m)\u001b[49m\n\u001b[1;32m    574\u001b[0m \u001b[38;5;66;03m# Note: don't use isinstance here, because we don't want to raise for\u001b[39;00m\n\u001b[1;32m    575\u001b[0m \u001b[38;5;66;03m# subclasses, e.g. NamedTuple objects that may override operators.\u001b[39;00m\n\u001b[1;32m    576\u001b[0m \u001b[38;5;28;01mif\u001b[39;00m \u001b[38;5;28mtype\u001b[39m(other) \u001b[38;5;129;01min\u001b[39;00m _rejected_binop_types:\n",
      "File \u001b[0;32m/opt/homebrew/lib/python3.10/site-packages/jax/_src/numpy/ufunc_api.py:177\u001b[0m, in \u001b[0;36mufunc.__call__\u001b[0;34m(self, out, where, *args)\u001b[0m\n\u001b[1;32m    175\u001b[0m   \u001b[38;5;28;01mraise\u001b[39;00m \u001b[38;5;167;01mNotImplementedError\u001b[39;00m(\u001b[38;5;124mf\u001b[39m\u001b[38;5;124m\"\u001b[39m\u001b[38;5;124mwhere argument of \u001b[39m\u001b[38;5;132;01m{\u001b[39;00m\u001b[38;5;28mself\u001b[39m\u001b[38;5;132;01m}\u001b[39;00m\u001b[38;5;124m\"\u001b[39m)\n\u001b[1;32m    176\u001b[0m call \u001b[38;5;241m=\u001b[39m \u001b[38;5;28mself\u001b[39m\u001b[38;5;241m.\u001b[39m__static_props[\u001b[38;5;124m'\u001b[39m\u001b[38;5;124mcall\u001b[39m\u001b[38;5;124m'\u001b[39m] \u001b[38;5;129;01mor\u001b[39;00m \u001b[38;5;28mself\u001b[39m\u001b[38;5;241m.\u001b[39m_call_vectorized\n\u001b[0;32m--> 177\u001b[0m \u001b[38;5;28;01mreturn\u001b[39;00m \u001b[43mcall\u001b[49m\u001b[43m(\u001b[49m\u001b[38;5;241;43m*\u001b[39;49m\u001b[43margs\u001b[49m\u001b[43m)\u001b[49m\n",
      "    \u001b[0;31m[... skipping hidden 11 frame]\u001b[0m\n",
      "File \u001b[0;32m/opt/homebrew/lib/python3.10/site-packages/jax/_src/numpy/ufuncs.py:1157\u001b[0m, in \u001b[0;36m_add\u001b[0;34m(x, y)\u001b[0m\n\u001b[1;32m   1131\u001b[0m \u001b[38;5;124;03m\"\"\"Add two arrays element-wise.\u001b[39;00m\n\u001b[1;32m   1132\u001b[0m \n\u001b[1;32m   1133\u001b[0m \u001b[38;5;124;03mJAX implementation of :obj:`numpy.add`. This is a universal function,\u001b[39;00m\n\u001b[0;32m   (...)\u001b[0m\n\u001b[1;32m   1154\u001b[0m \u001b[38;5;124;03m  Array([10, 11, 12, 13], dtype=int32)\u001b[39;00m\n\u001b[1;32m   1155\u001b[0m \u001b[38;5;124;03m\"\"\"\u001b[39;00m\n\u001b[1;32m   1156\u001b[0m x, y \u001b[38;5;241m=\u001b[39m promote_args(\u001b[38;5;124m\"\u001b[39m\u001b[38;5;124madd\u001b[39m\u001b[38;5;124m\"\u001b[39m, x, y)\n\u001b[0;32m-> 1157\u001b[0m \u001b[38;5;28;01mreturn\u001b[39;00m \u001b[43mlax\u001b[49m\u001b[38;5;241;43m.\u001b[39;49m\u001b[43madd\u001b[49m\u001b[43m(\u001b[49m\u001b[43mx\u001b[49m\u001b[43m,\u001b[49m\u001b[43m \u001b[49m\u001b[43my\u001b[49m\u001b[43m)\u001b[49m \u001b[38;5;28;01mif\u001b[39;00m x\u001b[38;5;241m.\u001b[39mdtype \u001b[38;5;241m!=\u001b[39m \u001b[38;5;28mbool\u001b[39m \u001b[38;5;28;01melse\u001b[39;00m lax\u001b[38;5;241m.\u001b[39mbitwise_or(x, y)\n",
      "    \u001b[0;31m[... skipping hidden 7 frame]\u001b[0m\n",
      "File \u001b[0;32m/opt/homebrew/lib/python3.10/site-packages/jax/_src/lax/lax.py:2072\u001b[0m, in \u001b[0;36mbroadcasting_shape_rule\u001b[0;34m(name, *avals)\u001b[0m\n\u001b[1;32m   2070\u001b[0m       result_shape\u001b[38;5;241m.\u001b[39mappend(non_1s[\u001b[38;5;241m0\u001b[39m])\n\u001b[1;32m   2071\u001b[0m     \u001b[38;5;28;01melse\u001b[39;00m:\n\u001b[0;32m-> 2072\u001b[0m       \u001b[38;5;28;01mraise\u001b[39;00m \u001b[38;5;167;01mTypeError\u001b[39;00m(\u001b[38;5;124mf\u001b[39m\u001b[38;5;124m'\u001b[39m\u001b[38;5;132;01m{\u001b[39;00mname\u001b[38;5;132;01m}\u001b[39;00m\u001b[38;5;124m got incompatible shapes for broadcasting: \u001b[39m\u001b[38;5;124m'\u001b[39m\n\u001b[1;32m   2073\u001b[0m                       \u001b[38;5;124mf\u001b[39m\u001b[38;5;124m'\u001b[39m\u001b[38;5;132;01m{\u001b[39;00m\u001b[38;5;124m\"\u001b[39m\u001b[38;5;124m, \u001b[39m\u001b[38;5;124m\"\u001b[39m\u001b[38;5;241m.\u001b[39mjoin(\u001b[38;5;28mmap\u001b[39m(\u001b[38;5;28mstr\u001b[39m, \u001b[38;5;28mmap\u001b[39m(\u001b[38;5;28mtuple\u001b[39m, shapes)))\u001b[38;5;132;01m}\u001b[39;00m\u001b[38;5;124m.\u001b[39m\u001b[38;5;124m'\u001b[39m)\n\u001b[1;32m   2075\u001b[0m \u001b[38;5;28;01mreturn\u001b[39;00m \u001b[38;5;28mtuple\u001b[39m(result_shape)\n",
      "\u001b[0;31mTypeError\u001b[0m: add got incompatible shapes for broadcasting: (2, 2), (4, 2)."
     ]
    }
   ],
   "source": [
    "state.bots.position + direction"
   ]
  },
  {
   "cell_type": "code",
   "execution_count": null,
   "id": "a3ee4de8",
   "metadata": {},
   "outputs": [],
   "source": [
    "state.bots.position - direction"
   ]
  },
  {
   "cell_type": "code",
   "execution_count": null,
   "id": "afba8828",
   "metadata": {},
   "outputs": [],
   "source": [
    "jnp.concat([state.bots.position, state.bots.position])"
   ]
  },
  {
   "cell_type": "code",
   "execution_count": 15,
   "id": "4d058a9c",
   "metadata": {},
   "outputs": [
    {
     "data": {
      "text/plain": [
       "Array([333.3333 , 333.33337], dtype=float32)"
      ]
     },
     "execution_count": 15,
     "metadata": {},
     "output_type": "execute_result"
    }
   ],
   "source": [
    "jnp.linalg.norm(state.bots.position - state.baskets.position, axis=1)"
   ]
  },
  {
   "cell_type": "code",
   "execution_count": 16,
   "id": "eecd6799",
   "metadata": {},
   "outputs": [
    {
     "data": {
      "text/plain": [
       "(2, 2)"
      ]
     },
     "execution_count": 16,
     "metadata": {},
     "output_type": "execute_result"
    }
   ],
   "source": [
    "state.bots.position.shape"
   ]
  },
  {
   "cell_type": "code",
   "execution_count": 17,
   "id": "f9cf3411",
   "metadata": {},
   "outputs": [
    {
     "data": {
      "text/plain": [
       "(1, 2)"
      ]
     },
     "execution_count": 17,
     "metadata": {},
     "output_type": "execute_result"
    }
   ],
   "source": [
    "state.baskets.position.shape"
   ]
  },
  {
   "cell_type": "code",
   "execution_count": 19,
   "id": "7412e018",
   "metadata": {},
   "outputs": [
    {
     "data": {
      "text/plain": [
       "Array([[333.3333 ],\n",
       "       [333.33337]], dtype=float32)"
      ]
     },
     "execution_count": 19,
     "metadata": {},
     "output_type": "execute_result"
    }
   ],
   "source": [
    "jax.vmap(lambda target, others: jnp.linalg.norm(target - others, axis=1), in_axes=(0, None))(state.bots.position, state.baskets.position)\n"
   ]
  },
  {
   "cell_type": "code",
   "execution_count": null,
   "id": "0775bb18",
   "metadata": {},
   "outputs": [],
   "source": []
  }
 ],
 "metadata": {
  "kernelspec": {
   "display_name": "Python 3 (ipykernel)",
   "language": "python",
   "name": "python3"
  },
  "language_info": {
   "codemirror_mode": {
    "name": "ipython",
    "version": 3
   },
   "file_extension": ".py",
   "mimetype": "text/x-python",
   "name": "python",
   "nbconvert_exporter": "python",
   "pygments_lexer": "ipython3",
   "version": "3.10.14"
  }
 },
 "nbformat": 4,
 "nbformat_minor": 5
}
